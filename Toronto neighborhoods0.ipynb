{
 "cells": [
  {
   "cell_type": "markdown",
   "metadata": {},
   "source": [
    "## Scaraping Toronto Neighborhoods Data:\n",
    "### The code here scrapes the data from Wikipedia page of Toronto's neighborhoods, and clean the data."
   ]
  },
  {
   "cell_type": "markdown",
   "metadata": {},
   "source": [
    "#### Import libraries and display seetings:"
   ]
  },
  {
   "cell_type": "code",
   "execution_count": 173,
   "metadata": {},
   "outputs": [],
   "source": [
    "import numpy as np\n",
    "import pandas as pd\n",
    "import requests\n",
    "from bs4 import BeautifulSoup\n",
    "pd.set_option('display.max_rows', None)"
   ]
  },
  {
   "cell_type": "markdown",
   "metadata": {},
   "source": [
    "#### using pandas and BeautifulSoup to scrape the table from the Wiki page of Toronto:"
   ]
  },
  {
   "cell_type": "code",
   "execution_count": 174,
   "metadata": {},
   "outputs": [],
   "source": [
    "res = requests.get(\"https://en.wikipedia.org/wiki/List_of_postal_codes_of_Canada:_M\")\n",
    "soup = BeautifulSoup(res.content,'lxml')\n",
    "table = soup.find_all('table')[0] \n",
    "df = pd.read_html(str(table))\n",
    "df = df[0]   #df[0] is the table as a DataFrame"
   ]
  },
  {
   "cell_type": "markdown",
   "metadata": {},
   "source": [
    "#### drop those rows where Borough is 'Not assigned'"
   ]
  },
  {
   "cell_type": "code",
   "execution_count": 175,
   "metadata": {},
   "outputs": [],
   "source": [
    "#drop those rows where Borough is 'Not assigned'\n",
    "df = df.drop(df[df['Borough']=='Not assigned'].index)"
   ]
  },
  {
   "cell_type": "markdown",
   "metadata": {},
   "source": [
    "#### Take care the 'Not assigned' or NaN entries of 'Neighborhood' column"
   ]
  },
  {
   "cell_type": "code",
   "execution_count": 179,
   "metadata": {},
   "outputs": [
    {
     "name": "stdout",
     "output_type": "stream",
     "text": [
      "There are no Neighborhood rows with 'Not assigned' or empty values.\n"
     ]
    }
   ],
   "source": [
    "#if Neighborhood is 'Not assigned' or NaN, replace it with the Borough name\n",
    "try:\n",
    "    neighborhoodNAList = np.logical_or(df['Neighborhood'] == 'Not assigned', df['Neighborhood'].isna())\n",
    "    df.loc[neighborhoodNAList, 'Neighborhood'] = df.loc[neighborhoodNAList, 'Borough'] \n",
    "    if sum(neighborhoodNAList) > 0:\n",
    "        print('These Neighborhoods names replaced with Borough name:')\n",
    "        print(df[neighborhoodNAList])\n",
    "    else: \n",
    "        print('There are no Neighborhood rows with \\'Not assigned\\' or empty values.')\n",
    "\n",
    "except: \n",
    "    pass"
   ]
  },
  {
   "cell_type": "markdown",
   "metadata": {},
   "source": [
    "####  Display the number of rows of the dataframe:"
   ]
  },
  {
   "cell_type": "code",
   "execution_count": 177,
   "metadata": {},
   "outputs": [
    {
     "name": "stdout",
     "output_type": "stream",
     "text": [
      "Number of rows of the dataframe: 103\n"
     ]
    }
   ],
   "source": [
    "print(\"Number of rows of the dataframe:\", df.shape[0])\n"
   ]
  }
 ],
 "metadata": {
  "kernelspec": {
   "display_name": "Python 3",
   "language": "python",
   "name": "python3"
  },
  "language_info": {
   "codemirror_mode": {
    "name": "ipython",
    "version": 3
   },
   "file_extension": ".py",
   "mimetype": "text/x-python",
   "name": "python",
   "nbconvert_exporter": "python",
   "pygments_lexer": "ipython3",
   "version": "3.7.4"
  }
 },
 "nbformat": 4,
 "nbformat_minor": 2
}
